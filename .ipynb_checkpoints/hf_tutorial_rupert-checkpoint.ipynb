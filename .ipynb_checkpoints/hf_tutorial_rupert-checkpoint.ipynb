{
 "cells": [
  {
   "cell_type": "code",
   "execution_count": 1,
   "id": "38d73295",
   "metadata": {},
   "outputs": [
    {
     "name": "stderr",
     "output_type": "stream",
     "text": [
      "No model was supplied, defaulted to distilbert-base-uncased-finetuned-sst-2-english and revision af0f99b (https://huggingface.co/distilbert-base-uncased-finetuned-sst-2-english).\n",
      "Using a pipeline without specifying a model name and revision in production is not recommended.\n"
     ]
    },
    {
     "data": {
      "text/plain": [
       "([{'label': 'POSITIVE', 'score': 0.999713122844696}],\n",
       " [{'label': 'NEGATIVE', 'score': 0.9968041181564331}])"
      ]
     },
     "execution_count": 1,
     "metadata": {},
     "output_type": "execute_result"
    }
   ],
   "source": [
    "from transformers import pipeline\n",
    "classifier = pipeline('sentiment-analysis')\n",
    "classifier(\"I love dogs\"), classifier(\"I really hate dogs\")"
   ]
  },
  {
   "cell_type": "code",
   "execution_count": 2,
   "id": "dc8faadc",
   "metadata": {},
   "outputs": [
    {
     "data": {
      "text/plain": [
       "{'input_ids': [101, 1045, 2293, 6077, 102], 'attention_mask': [1, 1, 1, 1, 1]}"
      ]
     },
     "execution_count": 2,
     "metadata": {},
     "output_type": "execute_result"
    }
   ],
   "source": [
    "from transformers import AutoTokenizer, AutoModelForSequenceClassification, DistilBertForSequenceClassification, DistilBertTokenizer\n",
    "\n",
    "model_name = 'distilbert-base-uncased-finetuned-sst-2-english'\n",
    "pt_model = AutoModelForSequenceClassification.from_pretrained(model_name)\n",
    "tokenizer = AutoTokenizer.from_pretrained(model_name)\n",
    "\n",
    "inputs = tokenizer(\"I love dogs\")\n",
    "inputs"
   ]
  },
  {
   "cell_type": "code",
   "execution_count": 3,
   "id": "1950b1e2",
   "metadata": {},
   "outputs": [
    {
     "data": {
      "text/plain": [
       "{'input_ids': tensor([[ 101, 1045, 2293, 6077,  102,    0],\n",
       "        [ 101, 1045, 2428, 5223, 6077,  102]]), 'attention_mask': tensor([[1, 1, 1, 1, 1, 0],\n",
       "        [1, 1, 1, 1, 1, 1]])}"
      ]
     },
     "execution_count": 3,
     "metadata": {},
     "output_type": "execute_result"
    }
   ],
   "source": [
    "batch = tokenizer([\"I love dogs\", \"I really hate dogs\"],\n",
    "                 padding=True,\n",
    "                 truncation=True,\n",
    "                 max_length=512,\n",
    "                 return_tensors='pt')\n",
    "batch"
   ]
  },
  {
   "cell_type": "code",
   "execution_count": 4,
   "id": "a8a6f7d6",
   "metadata": {},
   "outputs": [
    {
     "data": {
      "text/plain": [
       "tensor([[1, 1, 1, 1, 1, 0],\n",
       "        [1, 1, 1, 1, 1, 1]])"
      ]
     },
     "execution_count": 4,
     "metadata": {},
     "output_type": "execute_result"
    }
   ],
   "source": [
    "batch.attention_mask"
   ]
  },
  {
   "cell_type": "code",
   "execution_count": 5,
   "id": "9dc66468",
   "metadata": {},
   "outputs": [
    {
     "name": "stdout",
     "output_type": "stream",
     "text": [
      "tensor([[0., 1.],\n",
      "        [1., 0.]]) 2\n"
     ]
    }
   ],
   "source": [
    "import torch\n",
    "with torch.inference_mode():\n",
    "    print(torch.softmax(pt_model(**batch).logits,dim=1).round(),2)"
   ]
  },
  {
   "cell_type": "code",
   "execution_count": 6,
   "id": "b9f1b69a",
   "metadata": {},
   "outputs": [],
   "source": [
    "import os\n",
    "base_dir = os.path.join(\".\",\"unhealthy-conversations\", \"corpus\")\n",
    "train_path = os.path.join(base_dir, \"train.csv\")\n",
    "val_path = os.path.join(base_dir, \"val.csv\")"
   ]
  },
  {
   "cell_type": "code",
   "execution_count": 7,
   "id": "19efac0e",
   "metadata": {},
   "outputs": [
    {
     "data": {
      "text/html": [
       "<div>\n",
       "<style scoped>\n",
       "    .dataframe tbody tr th:only-of-type {\n",
       "        vertical-align: middle;\n",
       "    }\n",
       "\n",
       "    .dataframe tbody tr th {\n",
       "        vertical-align: top;\n",
       "    }\n",
       "\n",
       "    .dataframe thead th {\n",
       "        text-align: right;\n",
       "    }\n",
       "</style>\n",
       "<table border=\"1\" class=\"dataframe\">\n",
       "  <thead>\n",
       "    <tr style=\"text-align: right;\">\n",
       "      <th></th>\n",
       "      <th>_unit_id</th>\n",
       "      <th>_trusted_judgments</th>\n",
       "      <th>comment</th>\n",
       "      <th>antagonize</th>\n",
       "      <th>antagonize:confidence</th>\n",
       "      <th>condescending</th>\n",
       "      <th>condescending:confidence</th>\n",
       "      <th>dismissive</th>\n",
       "      <th>dismissive:confidence</th>\n",
       "      <th>generalisation</th>\n",
       "      <th>generalisation:confidence</th>\n",
       "      <th>generalisation_unfair</th>\n",
       "      <th>generalisation_unfair:confidence</th>\n",
       "      <th>healthy</th>\n",
       "      <th>healthy:confidence</th>\n",
       "      <th>hostile</th>\n",
       "      <th>hostile:confidence</th>\n",
       "      <th>sarcastic</th>\n",
       "      <th>sarcastic:confidence</th>\n",
       "    </tr>\n",
       "  </thead>\n",
       "  <tbody>\n",
       "    <tr>\n",
       "      <th>0</th>\n",
       "      <td>2319157561</td>\n",
       "      <td>4</td>\n",
       "      <td>Three marriages, several bankrupt periods, inh...</td>\n",
       "      <td>0</td>\n",
       "      <td>1.0000</td>\n",
       "      <td>0</td>\n",
       "      <td>1.0000</td>\n",
       "      <td>0</td>\n",
       "      <td>1.0000</td>\n",
       "      <td>0</td>\n",
       "      <td>1.0000</td>\n",
       "      <td>0.0</td>\n",
       "      <td>1.0</td>\n",
       "      <td>1</td>\n",
       "      <td>0.7578</td>\n",
       "      <td>0</td>\n",
       "      <td>0.7565</td>\n",
       "      <td>0</td>\n",
       "      <td>1.0000</td>\n",
       "    </tr>\n",
       "    <tr>\n",
       "      <th>1</th>\n",
       "      <td>1739464982</td>\n",
       "      <td>4</td>\n",
       "      <td>The sense of entitlement among high school 'jo...</td>\n",
       "      <td>0</td>\n",
       "      <td>0.7634</td>\n",
       "      <td>0</td>\n",
       "      <td>0.7634</td>\n",
       "      <td>0</td>\n",
       "      <td>0.7634</td>\n",
       "      <td>0</td>\n",
       "      <td>1.0000</td>\n",
       "      <td>0.0</td>\n",
       "      <td>1.0</td>\n",
       "      <td>1</td>\n",
       "      <td>0.7634</td>\n",
       "      <td>0</td>\n",
       "      <td>0.7634</td>\n",
       "      <td>0</td>\n",
       "      <td>0.7634</td>\n",
       "    </tr>\n",
       "    <tr>\n",
       "      <th>2</th>\n",
       "      <td>1739457583</td>\n",
       "      <td>5</td>\n",
       "      <td>So what? He was just stating the obvious.</td>\n",
       "      <td>0</td>\n",
       "      <td>0.8121</td>\n",
       "      <td>0</td>\n",
       "      <td>0.5928</td>\n",
       "      <td>0</td>\n",
       "      <td>0.8043</td>\n",
       "      <td>0</td>\n",
       "      <td>1.0000</td>\n",
       "      <td>0.0</td>\n",
       "      <td>1.0</td>\n",
       "      <td>1</td>\n",
       "      <td>0.6163</td>\n",
       "      <td>0</td>\n",
       "      <td>1.0000</td>\n",
       "      <td>0</td>\n",
       "      <td>1.0000</td>\n",
       "    </tr>\n",
       "    <tr>\n",
       "      <th>3</th>\n",
       "      <td>2319156950</td>\n",
       "      <td>40</td>\n",
       "      <td>If one is a Con, why yes, one would honk. Loud...</td>\n",
       "      <td>0</td>\n",
       "      <td>0.8508</td>\n",
       "      <td>0</td>\n",
       "      <td>0.8867</td>\n",
       "      <td>0</td>\n",
       "      <td>0.9239</td>\n",
       "      <td>0</td>\n",
       "      <td>0.8863</td>\n",
       "      <td>0.0</td>\n",
       "      <td>1.0</td>\n",
       "      <td>1</td>\n",
       "      <td>0.8508</td>\n",
       "      <td>0</td>\n",
       "      <td>0.9641</td>\n",
       "      <td>0</td>\n",
       "      <td>0.8868</td>\n",
       "    </tr>\n",
       "    <tr>\n",
       "      <th>4</th>\n",
       "      <td>2327196492</td>\n",
       "      <td>3</td>\n",
       "      <td>Ooohhh... It's Wendy Whiner... making sure to ...</td>\n",
       "      <td>0</td>\n",
       "      <td>1.0000</td>\n",
       "      <td>0</td>\n",
       "      <td>1.0000</td>\n",
       "      <td>0</td>\n",
       "      <td>1.0000</td>\n",
       "      <td>0</td>\n",
       "      <td>1.0000</td>\n",
       "      <td>0.0</td>\n",
       "      <td>1.0</td>\n",
       "      <td>1</td>\n",
       "      <td>1.0000</td>\n",
       "      <td>0</td>\n",
       "      <td>1.0000</td>\n",
       "      <td>0</td>\n",
       "      <td>1.0000</td>\n",
       "    </tr>\n",
       "    <tr>\n",
       "      <th>...</th>\n",
       "      <td>...</td>\n",
       "      <td>...</td>\n",
       "      <td>...</td>\n",
       "      <td>...</td>\n",
       "      <td>...</td>\n",
       "      <td>...</td>\n",
       "      <td>...</td>\n",
       "      <td>...</td>\n",
       "      <td>...</td>\n",
       "      <td>...</td>\n",
       "      <td>...</td>\n",
       "      <td>...</td>\n",
       "      <td>...</td>\n",
       "      <td>...</td>\n",
       "      <td>...</td>\n",
       "      <td>...</td>\n",
       "      <td>...</td>\n",
       "      <td>...</td>\n",
       "      <td>...</td>\n",
       "    </tr>\n",
       "    <tr>\n",
       "      <th>35498</th>\n",
       "      <td>2327179313</td>\n",
       "      <td>3</td>\n",
       "      <td>Okay, make that \"write a book\" Fingers don't a...</td>\n",
       "      <td>0</td>\n",
       "      <td>1.0000</td>\n",
       "      <td>0</td>\n",
       "      <td>1.0000</td>\n",
       "      <td>0</td>\n",
       "      <td>1.0000</td>\n",
       "      <td>0</td>\n",
       "      <td>1.0000</td>\n",
       "      <td>0.0</td>\n",
       "      <td>1.0</td>\n",
       "      <td>1</td>\n",
       "      <td>1.0000</td>\n",
       "      <td>0</td>\n",
       "      <td>1.0000</td>\n",
       "      <td>0</td>\n",
       "      <td>1.0000</td>\n",
       "    </tr>\n",
       "    <tr>\n",
       "      <th>35499</th>\n",
       "      <td>2164631772</td>\n",
       "      <td>3</td>\n",
       "      <td>It was Americans in Alberta, not the governmen...</td>\n",
       "      <td>0</td>\n",
       "      <td>1.0000</td>\n",
       "      <td>0</td>\n",
       "      <td>1.0000</td>\n",
       "      <td>0</td>\n",
       "      <td>1.0000</td>\n",
       "      <td>0</td>\n",
       "      <td>1.0000</td>\n",
       "      <td>0.0</td>\n",
       "      <td>1.0</td>\n",
       "      <td>1</td>\n",
       "      <td>1.0000</td>\n",
       "      <td>0</td>\n",
       "      <td>1.0000</td>\n",
       "      <td>0</td>\n",
       "      <td>1.0000</td>\n",
       "    </tr>\n",
       "    <tr>\n",
       "      <th>35500</th>\n",
       "      <td>1739460377</td>\n",
       "      <td>3</td>\n",
       "      <td>Whiner: Your air force consists of paper power...</td>\n",
       "      <td>0</td>\n",
       "      <td>1.0000</td>\n",
       "      <td>0</td>\n",
       "      <td>1.0000</td>\n",
       "      <td>0</td>\n",
       "      <td>1.0000</td>\n",
       "      <td>0</td>\n",
       "      <td>1.0000</td>\n",
       "      <td>0.0</td>\n",
       "      <td>1.0</td>\n",
       "      <td>1</td>\n",
       "      <td>1.0000</td>\n",
       "      <td>0</td>\n",
       "      <td>1.0000</td>\n",
       "      <td>0</td>\n",
       "      <td>1.0000</td>\n",
       "    </tr>\n",
       "    <tr>\n",
       "      <th>35501</th>\n",
       "      <td>1739461160</td>\n",
       "      <td>5</td>\n",
       "      <td>OUTSTANDING EDITORIAL!</td>\n",
       "      <td>0</td>\n",
       "      <td>0.7934</td>\n",
       "      <td>0</td>\n",
       "      <td>1.0000</td>\n",
       "      <td>0</td>\n",
       "      <td>1.0000</td>\n",
       "      <td>0</td>\n",
       "      <td>1.0000</td>\n",
       "      <td>0.0</td>\n",
       "      <td>1.0</td>\n",
       "      <td>1</td>\n",
       "      <td>0.7934</td>\n",
       "      <td>0</td>\n",
       "      <td>1.0000</td>\n",
       "      <td>0</td>\n",
       "      <td>1.0000</td>\n",
       "    </tr>\n",
       "    <tr>\n",
       "      <th>35502</th>\n",
       "      <td>1739454817</td>\n",
       "      <td>5</td>\n",
       "      <td>They forget to talk about the murders and oppr...</td>\n",
       "      <td>0</td>\n",
       "      <td>0.7761</td>\n",
       "      <td>0</td>\n",
       "      <td>0.7917</td>\n",
       "      <td>0</td>\n",
       "      <td>1.0000</td>\n",
       "      <td>0</td>\n",
       "      <td>1.0000</td>\n",
       "      <td>0.0</td>\n",
       "      <td>1.0</td>\n",
       "      <td>1</td>\n",
       "      <td>0.5865</td>\n",
       "      <td>0</td>\n",
       "      <td>0.7761</td>\n",
       "      <td>1</td>\n",
       "      <td>0.5811</td>\n",
       "    </tr>\n",
       "  </tbody>\n",
       "</table>\n",
       "<p>35503 rows × 19 columns</p>\n",
       "</div>"
      ],
      "text/plain": [
       "         _unit_id  _trusted_judgments  \\\n",
       "0      2319157561                   4   \n",
       "1      1739464982                   4   \n",
       "2      1739457583                   5   \n",
       "3      2319156950                  40   \n",
       "4      2327196492                   3   \n",
       "...           ...                 ...   \n",
       "35498  2327179313                   3   \n",
       "35499  2164631772                   3   \n",
       "35500  1739460377                   3   \n",
       "35501  1739461160                   5   \n",
       "35502  1739454817                   5   \n",
       "\n",
       "                                                 comment  antagonize  \\\n",
       "0      Three marriages, several bankrupt periods, inh...           0   \n",
       "1      The sense of entitlement among high school 'jo...           0   \n",
       "2              So what? He was just stating the obvious.           0   \n",
       "3      If one is a Con, why yes, one would honk. Loud...           0   \n",
       "4      Ooohhh... It's Wendy Whiner... making sure to ...           0   \n",
       "...                                                  ...         ...   \n",
       "35498  Okay, make that \"write a book\" Fingers don't a...           0   \n",
       "35499  It was Americans in Alberta, not the governmen...           0   \n",
       "35500  Whiner: Your air force consists of paper power...           0   \n",
       "35501                             OUTSTANDING EDITORIAL!           0   \n",
       "35502  They forget to talk about the murders and oppr...           0   \n",
       "\n",
       "       antagonize:confidence  condescending  condescending:confidence  \\\n",
       "0                     1.0000              0                    1.0000   \n",
       "1                     0.7634              0                    0.7634   \n",
       "2                     0.8121              0                    0.5928   \n",
       "3                     0.8508              0                    0.8867   \n",
       "4                     1.0000              0                    1.0000   \n",
       "...                      ...            ...                       ...   \n",
       "35498                 1.0000              0                    1.0000   \n",
       "35499                 1.0000              0                    1.0000   \n",
       "35500                 1.0000              0                    1.0000   \n",
       "35501                 0.7934              0                    1.0000   \n",
       "35502                 0.7761              0                    0.7917   \n",
       "\n",
       "       dismissive  dismissive:confidence  generalisation  \\\n",
       "0               0                 1.0000               0   \n",
       "1               0                 0.7634               0   \n",
       "2               0                 0.8043               0   \n",
       "3               0                 0.9239               0   \n",
       "4               0                 1.0000               0   \n",
       "...           ...                    ...             ...   \n",
       "35498           0                 1.0000               0   \n",
       "35499           0                 1.0000               0   \n",
       "35500           0                 1.0000               0   \n",
       "35501           0                 1.0000               0   \n",
       "35502           0                 1.0000               0   \n",
       "\n",
       "       generalisation:confidence  generalisation_unfair  \\\n",
       "0                         1.0000                    0.0   \n",
       "1                         1.0000                    0.0   \n",
       "2                         1.0000                    0.0   \n",
       "3                         0.8863                    0.0   \n",
       "4                         1.0000                    0.0   \n",
       "...                          ...                    ...   \n",
       "35498                     1.0000                    0.0   \n",
       "35499                     1.0000                    0.0   \n",
       "35500                     1.0000                    0.0   \n",
       "35501                     1.0000                    0.0   \n",
       "35502                     1.0000                    0.0   \n",
       "\n",
       "       generalisation_unfair:confidence  healthy  healthy:confidence  hostile  \\\n",
       "0                                   1.0        1              0.7578        0   \n",
       "1                                   1.0        1              0.7634        0   \n",
       "2                                   1.0        1              0.6163        0   \n",
       "3                                   1.0        1              0.8508        0   \n",
       "4                                   1.0        1              1.0000        0   \n",
       "...                                 ...      ...                 ...      ...   \n",
       "35498                               1.0        1              1.0000        0   \n",
       "35499                               1.0        1              1.0000        0   \n",
       "35500                               1.0        1              1.0000        0   \n",
       "35501                               1.0        1              0.7934        0   \n",
       "35502                               1.0        1              0.5865        0   \n",
       "\n",
       "       hostile:confidence  sarcastic  sarcastic:confidence  \n",
       "0                  0.7565          0                1.0000  \n",
       "1                  0.7634          0                0.7634  \n",
       "2                  1.0000          0                1.0000  \n",
       "3                  0.9641          0                0.8868  \n",
       "4                  1.0000          0                1.0000  \n",
       "...                   ...        ...                   ...  \n",
       "35498              1.0000          0                1.0000  \n",
       "35499              1.0000          0                1.0000  \n",
       "35500              1.0000          0                1.0000  \n",
       "35501              1.0000          0                1.0000  \n",
       "35502              0.7761          1                0.5811  \n",
       "\n",
       "[35503 rows x 19 columns]"
      ]
     },
     "execution_count": 7,
     "metadata": {},
     "output_type": "execute_result"
    }
   ],
   "source": [
    "import pandas as pd\n",
    "train_data = pd.read_csv(train_path)\n",
    "train_data"
   ]
  },
  {
   "cell_type": "code",
   "execution_count": 8,
   "id": "9bafca5b",
   "metadata": {},
   "outputs": [
    {
     "data": {
      "image/png": "[encoded data removed]",
      "text/plain": [
       "<Figure size 640x480 with 1 Axes>"
      ]
     },
     "metadata": {},
     "output_type": "display_data"
    }
   ],
   "source": [
    "attributes = ['antagonize', 'condescending', 'dismissive', 'generalisation', 'generalisation_unfair', 'hostile', 'sarcastic', 'healthy']\n",
    "\n",
    "train_data[attributes].sum().plot.bar();"
   ]
  },
  {
   "cell_type": "code",
   "execution_count": 9,
   "id": "70f8b30a",
   "metadata": {},
   "outputs": [
    {
     "data": {
      "image/png": "[encoded data removed]",
      "text/plain": [
       "<Figure size 640x480 with 1 Axes>"
      ]
     },
     "metadata": {},
     "output_type": "display_data"
    }
   ],
   "source": [
    "train_data['unhealthy'] = train_data['healthy'] != 1\n",
    "train_data[attributes[:-1]+['unhealthy']].sum().plot.bar();"
   ]
  },
  {
   "cell_type": "code",
   "execution_count": 13,
   "id": "bfd33de7",
   "metadata": {},
   "outputs": [],
   "source": [
    "class UCC_Dataset(torch.utils.data.Dataset):\n",
    "    def __init__(self, \n",
    "                 data_path,\n",
    "                 tokenizer,\n",
    "                 attributes,\n",
    "                 max_token_len = 128,\n",
    "                 sample = 5000):\n",
    "        self.data_path =data_path\n",
    "        self.tokenizer = tokenizer\n",
    "        self.attributes = attributes\n",
    "        self.max_token_len = max_token_len\n",
    "        self.sample = sample\n",
    "        self._prepare_data()\n",
    "        \n",
    "    def _prepare_data(self):\n",
    "        data = pd.read_csv(self.data_path)\n",
    "        data['unhealthy'] = data['healthy'] != 1\n",
    "        if self.sample is not None:\n",
    "            unhealthy = data.loc[data[attributes].sum(axis=1) > 0]\n",
    "            healthy = data.loc[data[attributes].sum(axis=1) == 0]\n",
    "            self.data = pd.concat([unhealthy, healthy.sample(self.sample, random_state=7, replace=True)])\n",
    "            \n",
    "    def __len__(self):\n",
    "        return len(self.data)\n",
    "    \n",
    "    def __getitem__(self, index):\n",
    "        item =  self.data.iloc[index]\n",
    "        comment = str(item.comment)\n",
    "        attributes = torch.Tensor(item[self.attributes])\n",
    "        tokens = self.tokenizer.encode_plus(\n",
    "            comment, \n",
    "            add_special_tokens=True, \n",
    "            return_tensors='pt', \n",
    "            truncation=True, \n",
    "            padding=\"max_length\", \n",
    "            max_length=self.max_token_len, \n",
    "            return_attention_mask=True\n",
    "        )\n",
    "        return {\n",
    "            \"input_ids\": tokens.input_ids.flatten(),\n",
    "            \"attention_mask\": tokens.attention_mask.flatten(),\n",
    "            \"labels\": attributes,\n",
    "        }        "
   ]
  },
  {
   "cell_type": "code",
   "execution_count": 14,
   "id": "f40f2a6e",
   "metadata": {},
   "outputs": [],
   "source": [
    "attributes = ['antagonize', 'condescending','dismissive','generalisation',\n",
    "              'generalisation_unfair','hostile','sarcastic','unhealthy']\n",
    "model_name = \"roberta-base\"\n",
    "tokenizer = AutoTokenizer.from_pretrained(model_name)\n",
    "dataset_train = UCC_Dataset(train_path, tokenizer, attributes)\n",
    "dataset_val = UCC_Dataset(val_path, tokenizer, attributes)"
   ]
  },
  {
   "cell_type": "code",
   "execution_count": 15,
   "id": "3617fd32",
   "metadata": {},
   "outputs": [
    {
     "data": {
      "text/plain": [
       "(torch.Size([8]), torch.Size([128]), torch.Size([128]))"
      ]
     },
     "execution_count": 15,
     "metadata": {},
     "output_type": "execute_result"
    }
   ],
   "source": [
    "dataset_train.__getitem__(0)['labels'].shape, dataset_train.__getitem__(0)['input_ids'].shape, dataset_train.__getitem__(0)['attention_mask'].shape"
   ]
  },
  {
   "cell_type": "code",
   "execution_count": 16,
   "id": "a729f4bf",
   "metadata": {},
   "outputs": [
    {
     "data": {
      "text/plain": [
       "9960"
      ]
     },
     "execution_count": 16,
     "metadata": {},
     "output_type": "execute_result"
    }
   ],
   "source": [
    "len(dataset_train)"
   ]
  },
  {
   "cell_type": "code",
   "execution_count": 17,
   "id": "d5076c0a",
   "metadata": {},
   "outputs": [
    {
     "data": {
      "text/plain": [
       "5623"
      ]
     },
     "execution_count": 17,
     "metadata": {},
     "output_type": "execute_result"
    }
   ],
   "source": [
    "len(dataset_val)"
   ]
  },
  {
   "cell_type": "code",
   "execution_count": 19,
   "id": "37fd6264",
   "metadata": {},
   "outputs": [
    {
     "data": {
      "text/plain": [
       "{'input_ids': tensor([    0, 43881,  3699, 44171,   213,    81,     5,   299,     4,   252,\n",
       "          1395,   244,    24,     4,    85,    18,   233,     9,    49, 11757,\n",
       "             4,     2,     1,     1,     1,     1,     1,     1,     1,     1,\n",
       "             1,     1,     1,     1,     1,     1,     1,     1,     1,     1,\n",
       "             1,     1,     1,     1,     1,     1,     1,     1,     1,     1,\n",
       "             1,     1,     1,     1,     1,     1,     1,     1,     1,     1,\n",
       "             1,     1,     1,     1,     1,     1,     1,     1,     1,     1,\n",
       "             1,     1,     1,     1,     1,     1,     1,     1,     1,     1,\n",
       "             1,     1,     1,     1,     1,     1,     1,     1,     1,     1,\n",
       "             1,     1,     1,     1,     1,     1,     1,     1,     1,     1,\n",
       "             1,     1,     1,     1,     1,     1,     1,     1,     1,     1,\n",
       "             1,     1,     1,     1,     1,     1,     1,     1,     1,     1,\n",
       "             1,     1,     1,     1,     1,     1,     1,     1]),\n",
       " 'attention_mask': tensor([1, 1, 1, 1, 1, 1, 1, 1, 1, 1, 1, 1, 1, 1, 1, 1, 1, 1, 1, 1, 1, 1, 0, 0,\n",
       "         0, 0, 0, 0, 0, 0, 0, 0, 0, 0, 0, 0, 0, 0, 0, 0, 0, 0, 0, 0, 0, 0, 0, 0,\n",
       "         0, 0, 0, 0, 0, 0, 0, 0, 0, 0, 0, 0, 0, 0, 0, 0, 0, 0, 0, 0, 0, 0, 0, 0,\n",
       "         0, 0, 0, 0, 0, 0, 0, 0, 0, 0, 0, 0, 0, 0, 0, 0, 0, 0, 0, 0, 0, 0, 0, 0,\n",
       "         0, 0, 0, 0, 0, 0, 0, 0, 0, 0, 0, 0, 0, 0, 0, 0, 0, 0, 0, 0, 0, 0, 0, 0,\n",
       "         0, 0, 0, 0, 0, 0, 0, 0]),\n",
       " 'labels': tensor([0., 0., 0., 1., 1., 0., 0., 0.])}"
      ]
     },
     "execution_count": 19,
     "metadata": {},
     "output_type": "execute_result"
    }
   ],
   "source": [
    "dataset_train[2]"
   ]
  },
  {
   "cell_type": "code",
   "execution_count": 20,
   "id": "3a0d3b4d",
   "metadata": {},
   "outputs": [
    {
     "data": {
      "text/plain": [
       "['antagonize',\n",
       " 'condescending',\n",
       " 'dismissive',\n",
       " 'generalisation',\n",
       " 'generalisation_unfair',\n",
       " 'hostile',\n",
       " 'sarcastic',\n",
       " 'unhealthy']"
      ]
     },
     "execution_count": 20,
     "metadata": {},
     "output_type": "execute_result"
    }
   ],
   "source": [
    "attributes"
   ]
  },
  {
   "cell_type": "code",
   "execution_count": null,
   "id": "0c313963",
   "metadata": {},
   "outputs": [],
   "source": []
  }
 ],
 "metadata": {
  "kernelspec": {
   "display_name": "Python 3 (ipykernel)",
   "language": "python",
   "name": "python3"
  },
  "language_info": {
   "codemirror_mode": {
    "name": "ipython",
    "version": 3
   },
   "file_extension": ".py",
   "mimetype": "text/x-python",
   "name": "python",
   "nbconvert_exporter": "python",
   "pygments_lexer": "ipython3",
   "version": "3.11.4"
  }
 },
 "nbformat": 4,
 "nbformat_minor": 5
}
