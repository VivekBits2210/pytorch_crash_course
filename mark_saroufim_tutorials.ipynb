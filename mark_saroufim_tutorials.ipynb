{
 "cells": [
  {
   "cell_type": "markdown",
   "id": "1df8479e-a01c-42c0-bb28-6dff020c79ba",
   "metadata": {},
   "source": [
    "## Pipeline\n",
    "- Input and output datatypes should match the typing hints for any pipeline job\n",
    "- Raw text -> Tokenized -> Tensor\n",
    "- It's a list of functions with x = fn(x) for each fn in the python list"
   ]
  },
  {
   "cell_type": "markdown",
   "id": "6801c039-18d9-436e-9036-656b7df78c3f",
   "metadata": {},
   "source": [
    "## Workflow\n",
    "- DAG instead of a pipeline (done by Airflow/Metaflow)\n",
    "- DAG is a python dict"
   ]
  },
  {
   "cell_type": "code",
   "execution_count": 2,
   "id": "435266a7-3d0c-4074-9e13-a638855d27b4",
   "metadata": {},
   "outputs": [],
   "source": [
    "class DataLoader:\n",
    "    def __init__(self):\n",
    "        self.uri = uri\n",
    "        self.n = n\n",
    "        self.features = features\n",
    "        self.x = [[]]\n",
    "        self.y = []\n",
    "        self.current_index = current_index\n",
    "    \n",
    "    def __next__(self):\n",
    "        current_index+=1\n",
    "        return self.x[current_index]\n",
    "\n",
    "    def split_train_test(self):\n",
    "        import random\n",
    "        ...\n",
    "        return train_data, test_data"
   ]
  },
  {
   "cell_type": "code",
   "execution_count": null,
   "id": "0cd402f7-91d7-4dde-9fe8-9011df9a1b68",
   "metadata": {},
   "outputs": [],
   "source": []
  }
 ],
 "metadata": {
  "kernelspec": {
   "display_name": "Python 3 (ipykernel)",
   "language": "python",
   "name": "python3"
  },
  "language_info": {
   "codemirror_mode": {
    "name": "ipython",
    "version": 3
   },
   "file_extension": ".py",
   "mimetype": "text/x-python",
   "name": "python",
   "nbconvert_exporter": "python",
   "pygments_lexer": "ipython3",
   "version": "3.11.4"
  }
 },
 "nbformat": 4,
 "nbformat_minor": 5
}
